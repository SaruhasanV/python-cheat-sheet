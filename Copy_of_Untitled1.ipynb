{
  "cells": [
    {
      "cell_type": "markdown",
      "metadata": {
        "id": "tPaSIJ1RMy1a"
      },
      "source": [
        "**False, True**-Data values from the data type Boolean"
      ]
    },
    {
      "cell_type": "code",
      "execution_count": null,
      "metadata": {
        "colab": {
          "base_uri": "https://localhost:8080/"
        },
        "id": "H3kLoYJnM0jD",
        "outputId": "7ed27724-2841-43d9-a8b4-64401d6da171"
      },
      "outputs": [
        {
          "output_type": "execute_result",
          "data": {
            "text/plain": [
              "(True, True)"
            ]
          },
          "metadata": {},
          "execution_count": 1
        }
      ],
      "source": [
        "False == (1 > 2), True == (2 > 1)"
      ]
    },
    {
      "cell_type": "markdown",
      "metadata": {
        "id": "Zrj1pOSsNLzb"
      },
      "source": [
        "**break**-Ends loop prematurely"
      ]
    },
    {
      "cell_type": "code",
      "execution_count": null,
      "metadata": {
        "colab": {
          "base_uri": "https://localhost:8080/"
        },
        "id": "k6TTOfX5NTGw",
        "outputId": "c3a2b025-e202-4ba7-9230-42ee00f2a7a5"
      },
      "outputs": [
        {
          "output_type": "stream",
          "name": "stdout",
          "text": [
            "hello world\n"
          ]
        }
      ],
      "source": [
        "while(True):\n",
        "\n",
        "  break # no infinite loop\n",
        "print(\"hello world\")"
      ]
    },
    {
      "cell_type": "markdown",
      "metadata": {
        "id": "QngfxgQvN5Ss"
      },
      "source": [
        "**and, or, not**-Logical operators:\n",
        "\n",
        "(x and y) → both x and y must be True,\n",
        "(x or y) → either x or y must be True,\n",
        "(not x) → x must be false."
      ]
    },
    {
      "cell_type": "code",
      "execution_count": null,
      "metadata": {
        "colab": {
          "base_uri": "https://localhost:8080/"
        },
        "id": "tOCUONxXSc5a",
        "outputId": "0834e49e-e71c-4c8d-cb73-08cecf4f4b05"
      },
      "outputs": [
        {
          "output_type": "execute_result",
          "data": {
            "text/plain": [
              "True"
            ]
          },
          "metadata": {},
          "execution_count": 3
        }
      ],
      "source": [
        "x, y = True, False\n",
        "(x or y) == True # True\n",
        "(x and y) == False # True\n",
        "(not y) == True # True"
      ]
    },
    {
      "cell_type": "markdown",
      "metadata": {
        "id": "KIu6xSrLTMLE"
      },
      "source": [
        "**for**- For loop declaration\n",
        "for i in [0,1,2]:\n",
        "print(i)"
      ]
    },
    {
      "cell_type": "code",
      "execution_count": null,
      "metadata": {
        "colab": {
          "base_uri": "https://localhost:8080/"
        },
        "id": "G1B9wrwVUSwx",
        "outputId": "ae312cd1-318d-48c9-85a8-42deeca25de6"
      },
      "outputs": [
        {
          "name": "stdout",
          "output_type": "stream",
          "text": [
            "0\n",
            "1\n",
            "2\n"
          ]
        }
      ],
      "source": [
        "for i in [0,1,2]:\n",
        " print(i)"
      ]
    },
    {
      "cell_type": "markdown",
      "source": [
        "**while**- While loop - same semantics"
      ],
      "metadata": {
        "id": "fgpcjMcwMBnC"
      }
    },
    {
      "cell_type": "code",
      "execution_count": null,
      "metadata": {
        "colab": {
          "base_uri": "https://localhost:8080/"
        },
        "id": "frxZclMIVER8",
        "outputId": "4803ead0-f552-4035-829b-c66dc551d60b"
      },
      "outputs": [
        {
          "output_type": "stream",
          "name": "stdout",
          "text": [
            "0\n",
            "1\n",
            "2\n"
          ]
        }
      ],
      "source": [
        "j = 0\n",
        "while j < 3:\n",
        "  print(j)\n",
        "  j = j + 1"
      ]
    },
    {
      "cell_type": "markdown",
      "metadata": {
        "id": "t01TlWKjVXpp"
      },
      "source": [
        "**in**- Checks whether element is in sequence"
      ]
    },
    {
      "cell_type": "code",
      "execution_count": null,
      "metadata": {
        "colab": {
          "base_uri": "https://localhost:8080/"
        },
        "id": "qdQwzE8rVhkZ",
        "outputId": "f9fc1847-fb80-4a80-ad02-f6abe2d28b68"
      },
      "outputs": [
        {
          "output_type": "execute_result",
          "data": {
            "text/plain": [
              "True"
            ]
          },
          "metadata": {},
          "execution_count": 2
        }
      ],
      "source": [
        "42 in [2, 39, 42] # True"
      ]
    },
    {
      "cell_type": "markdown",
      "source": [
        "**is**- Checks whether both elements point to the same object."
      ],
      "metadata": {
        "id": "J2hmi5ZqNbPx"
      }
    },
    {
      "cell_type": "code",
      "source": [
        "y = x = 3\n",
        "x is y # True\n",
        "[3] is [3] # False"
      ],
      "metadata": {
        "colab": {
          "base_uri": "https://localhost:8080/"
        },
        "id": "UAmlytYQNwPS",
        "outputId": "cde1513d-796b-48cd-fde4-8211197e22e6"
      },
      "execution_count": null,
      "outputs": [
        {
          "output_type": "execute_result",
          "data": {
            "text/plain": [
              "False"
            ]
          },
          "metadata": {},
          "execution_count": 1
        }
      ]
    },
    {
      "cell_type": "markdown",
      "source": [
        "**None**- Empty value constant"
      ],
      "metadata": {
        "id": "Et11fqjRPmXV"
      }
    },
    {
      "cell_type": "code",
      "source": [
        "def f():\n",
        "  x = 2\n",
        "f() is None # True"
      ],
      "metadata": {
        "colab": {
          "base_uri": "https://localhost:8080/"
        },
        "id": "3QtyBP3VP0FF",
        "outputId": "83f658b1-9cd7-40a9-f34e-62f90e626a96"
      },
      "execution_count": null,
      "outputs": [
        {
          "output_type": "execute_result",
          "data": {
            "text/plain": [
              "True"
            ]
          },
          "metadata": {},
          "execution_count": 2
        }
      ]
    },
    {
      "cell_type": "markdown",
      "source": [
        "**lambda**- Function with no name (anonymous function)"
      ],
      "metadata": {
        "id": "_RBaDIuXQCSF"
      }
    },
    {
      "cell_type": "code",
      "source": [
        "(lambda x: x + 3)(3) # returns 6"
      ],
      "metadata": {
        "colab": {
          "base_uri": "https://localhost:8080/"
        },
        "id": "-msJ_nTaQL_F",
        "outputId": "83f985bb-efcd-4f3b-97ba-9d4b45131ce8"
      },
      "execution_count": null,
      "outputs": [
        {
          "output_type": "execute_result",
          "data": {
            "text/plain": [
              "6"
            ]
          },
          "metadata": {},
          "execution_count": 3
        }
      ]
    },
    {
      "cell_type": "markdown",
      "source": [
        "**return**- Terminates execution of the function and passes the\n",
        "flow of execution to the caller. An optional value after\n",
        "the return keyword specifies the function result."
      ],
      "metadata": {
        "id": "oOtzeHUfQ64b"
      }
    },
    {
      "cell_type": "code",
      "source": [
        "def incrementor(x):\n",
        "  return x + 1\n",
        "incrementor(4) # returns 5"
      ],
      "metadata": {
        "colab": {
          "base_uri": "https://localhost:8080/"
        },
        "id": "zXpy1xpIRGsD",
        "outputId": "21050f63-ff06-4a4f-ec46-91620be62533"
      },
      "execution_count": null,
      "outputs": [
        {
          "output_type": "execute_result",
          "data": {
            "text/plain": [
              "5"
            ]
          },
          "metadata": {},
          "execution_count": 4
        }
      ]
    },
    {
      "cell_type": "markdown",
      "source": [
        "**Boolean**- The Boolean data type is a truth value, either\n",
        "\n",
        "True or False. \n",
        " The Boolean operators ordered by priority:\n",
        "\n",
        "   not x → “if x is False, then x, else y”\n",
        "\n",
        "   x and y → “if x is False, then x, else y”\n",
        "\n",
        "   x or y → “if x is False, then y, else x”\n",
        "\n",
        "\n",
        "-These comparison operators evaluate to True:\n",
        "\n",
        "   1 < 2 and 0 <= 1 and 3 > 2 and 2 >=2 and\n",
        "   \n",
        "   1 == 1 and 1 != 0 # True"
      ],
      "metadata": {
        "id": "IuTlm2b0R0TB"
      }
    },
    {
      "cell_type": "code",
      "source": [
        "## 1. Boolean Operations\n",
        "x, y = True, False\n",
        "print(x and not y) # True\n",
        "print(not x and y or x) # True"
      ],
      "metadata": {
        "colab": {
          "base_uri": "https://localhost:8080/"
        },
        "id": "48gpqv_USp1J",
        "outputId": "5c4d9d11-6aa5-4826-875e-d8b17460150e"
      },
      "execution_count": null,
      "outputs": [
        {
          "output_type": "stream",
          "name": "stdout",
          "text": [
            "True\n",
            "True\n"
          ]
        }
      ]
    },
    {
      "cell_type": "code",
      "source": [
        "## 2. If condition evaluates to False\n",
        "if None or 0 or 0.0 or '' or [] or {} or set():\n",
        "# None, 0, 0.0, empty strings, or empty\n",
        "# container types are evaluated to False\n",
        "  print(\"Dead code\") # Not reached"
      ],
      "metadata": {
        "id": "yv8EjMuVS6TJ"
      },
      "execution_count": null,
      "outputs": []
    },
    {
      "cell_type": "markdown",
      "source": [
        "Integer,\n",
        "Float \n",
        "\n",
        "An integer is a positive or negative number\n",
        "without floating point (e.g. 3). A float is a\n",
        "positive or negative number with floating point\n",
        "precision (e.g. 3.14159265359).\n",
        "\n",
        "The ‘//’ operator performs integer division.\n",
        "The result is an integer value that is rounded\n",
        "towards the smaller integer number\n",
        "(e.g. 3 // 2 == 1)."
      ],
      "metadata": {
        "id": "f3HpIjpkTah3"
      }
    },
    {
      "cell_type": "code",
      "source": [
        "## 3. Arithmetic Operations\n",
        "x, y = 3, 2\n",
        "print(x + y) # = 5\n",
        "print(x - y) # = 1\n",
        "print(x * y) # = 6\n",
        "print(x / y) # = 1.5\n",
        "print(x // y) # = 1\n",
        "print(x % y) # = 1s\n",
        "print(-x) # = -3\n",
        "print(abs(-x)) # = 3\n",
        "print(int(3.9)) # = 3\n",
        "print(float(3)) # = 3.0\n",
        "print(x ** y) # = 9"
      ],
      "metadata": {
        "colab": {
          "base_uri": "https://localhost:8080/"
        },
        "id": "AK69RO2xU4Vp",
        "outputId": "4d4fd56e-5bc2-42e3-efec-0dc885c2a6e8"
      },
      "execution_count": null,
      "outputs": [
        {
          "output_type": "stream",
          "name": "stdout",
          "text": [
            "5\n",
            "1\n",
            "6\n",
            "1.5\n",
            "1\n",
            "1\n",
            "-3\n",
            "3\n",
            "3\n",
            "3.0\n",
            "9\n"
          ]
        }
      ]
    },
    {
      "cell_type": "markdown",
      "source": [
        "**String**- Python Strings are sequences of characters.\n",
        "The four main ways to create strings are the\n",
        "following.\n",
        "1. Single quotes\n",
        "'Yes'\n",
        "2. Double quotes\n",
        "\"Yes\"\n",
        "3. Triple quotes (multi-line)\n",
        "\"\"\"Yes\n",
        "We Can\"\"\"\n",
        "4. String method\n",
        "str(5) == '5' # True\n",
        "5. Concatenation\n",
        "\"Ma\" + \"hatma\" # 'Mahatma'\n",
        "\n",
        "These are whitespace characters in strings.\n",
        "● Newline \\n\n",
        "● Space \\s\n",
        "● Tab \\t"
      ],
      "metadata": {
        "id": "LMRUiev-VJo9"
      }
    },
    {
      "cell_type": "code",
      "source": [
        "## 4. Indexing and Slicing\n",
        "s = \"The youngest pope was 11 years old\"\n",
        "print(s[0]) # 'T'\n",
        "print(s[1:3]) # 'he'\n",
        "print(s[-3:-1]) # 'ol'\n",
        "print(s[-3:]) # 'old'\n",
        "x = s.split() # creates string array of words\n",
        "print(x[-3] + \" \" + x[-1] + \" \" + x[2] + \"s\")\n",
        "# '11 old popes'"
      ],
      "metadata": {
        "colab": {
          "base_uri": "https://localhost:8080/"
        },
        "id": "ZGbZY-fXVgZi",
        "outputId": "6ff52e1e-d44a-4250-d2b4-c1d8935fa4fd"
      },
      "execution_count": null,
      "outputs": [
        {
          "output_type": "stream",
          "name": "stdout",
          "text": [
            "T\n",
            "he\n",
            "ol\n",
            "old\n",
            "11 old popes\n"
          ]
        }
      ]
    },
    {
      "cell_type": "code",
      "source": [
        "## 5. Most Important String Methods\n",
        "y = \" This is lazy\\t\\n \"\n",
        "print(y.strip()) # Remove Whitespace: 'This is lazy'\n",
        "print(\"DrDre\".lower()) # Lowercase: 'drdre'\n",
        "print(\"attention\".upper()) # Uppercase: 'ATTENTION'\n",
        "print(\"smartphone\".startswith(\"smart\")) # True\n",
        "print(\"smartphone\".endswith(\"phone\")) # True\n",
        "print(\"another\".find(\"other\")) # Match index: 2\n",
        "print(\"cheat\".replace(\"ch\", \"m\")) # 'meat'\n",
        "print(','.join([\"F\", \"B\", \"I\"])) # 'F,B,I'\n",
        "print(len(\"Rumpelstiltskin\")) # String length: 15\n",
        "print(\"ear\" in \"earth\") # Contains: True"
      ],
      "metadata": {
        "colab": {
          "base_uri": "https://localhost:8080/"
        },
        "id": "ITD8IenRVfwW",
        "outputId": "b53fe1b4-6b08-4b30-f632-4ed5781ef3ca"
      },
      "execution_count": null,
      "outputs": [
        {
          "output_type": "stream",
          "name": "stdout",
          "text": [
            "This is lazy\n",
            "drdre\n",
            "ATTENTION\n",
            "True\n",
            "True\n",
            "2\n",
            "meat\n",
            "F,B,I\n",
            "15\n",
            "True\n"
          ]
        }
      ]
    },
    {
      "cell_type": "markdown",
      "source": [
        "**List**- A container data type that stores a\n",
        "sequence of elements. Unlike strings, lists\n",
        "are mutable: modification possible."
      ],
      "metadata": {
        "id": "v1uvYwBGV0yF"
      }
    },
    {
      "cell_type": "code",
      "source": [
        "l = [1, 2, 2]\n",
        "print(len(l)) # 3"
      ],
      "metadata": {
        "colab": {
          "base_uri": "https://localhost:8080/"
        },
        "id": "hIbzwQw3V-Di",
        "outputId": "5fe86ec0-5026-4129-a93a-338584f9dabe"
      },
      "execution_count": null,
      "outputs": [
        {
          "output_type": "stream",
          "name": "stdout",
          "text": [
            "3\n"
          ]
        }
      ]
    },
    {
      "cell_type": "markdown",
      "source": [
        "Adding\n",
        "elements\n",
        "\n",
        "Add elements to a list with (i) append, (ii)\n",
        "insert, or (iii) list concatenation.\n",
        "The append operation is very fast."
      ],
      "metadata": {
        "id": "EwdmCei8WF-H"
      }
    },
    {
      "cell_type": "code",
      "source": [
        "[1, 2, 2].append(4) # [1, 2, 2, 4]\n",
        "[1, 2, 4].insert(2,2) # [1, 2, 2, 4]\n",
        "[1, 2, 2] + [4] # [1, 2, 2, 4]"
      ],
      "metadata": {
        "colab": {
          "base_uri": "https://localhost:8080/"
        },
        "id": "2CP2fw2lWsfP",
        "outputId": "39ac4186-c5d2-405a-8676-dd2541d1b1ed"
      },
      "execution_count": null,
      "outputs": [
        {
          "output_type": "execute_result",
          "data": {
            "text/plain": [
              "[1, 2, 2, 4]"
            ]
          },
          "metadata": {},
          "execution_count": 13
        }
      ]
    },
    {
      "cell_type": "markdown",
      "source": [
        "**Removal**- Removing an element can be slower."
      ],
      "metadata": {
        "id": "iRYftmspXPU8"
      }
    },
    {
      "cell_type": "code",
      "source": [
        "[1, 2, 2, 4].remove(1) # [2, 2, 4]"
      ],
      "metadata": {
        "id": "TAujbckLXZpu"
      },
      "execution_count": null,
      "outputs": []
    },
    {
      "cell_type": "markdown",
      "source": [
        "**Reversing**- This reverses the order of list elements."
      ],
      "metadata": {
        "id": "nLcjLcn3YFyP"
      }
    },
    {
      "cell_type": "code",
      "source": [
        "[1, 2, 3].reverse() # [3, 2, 1]"
      ],
      "metadata": {
        "id": "dvhMWq6uYPYc"
      },
      "execution_count": null,
      "outputs": []
    },
    {
      "cell_type": "markdown",
      "source": [
        "**Sorting**- Sorts a list. The computational complexity\n",
        "of sorting is O(n log n) for n list elements."
      ],
      "metadata": {
        "id": "uI87ICr1Ykp8"
      }
    },
    {
      "cell_type": "code",
      "source": [
        "[2, 4, 2].sort() # [2, 2, 4]"
      ],
      "metadata": {
        "id": "ZvB0lKqBYt2t"
      },
      "execution_count": null,
      "outputs": []
    },
    {
      "cell_type": "markdown",
      "source": [
        "**Indexing**- Finds the first occurence of an element in\n",
        "the list & returns its index. Can be slow as\n",
        "the whole list is traversed."
      ],
      "metadata": {
        "id": "A8M_1VoOcLTV"
      }
    },
    {
      "cell_type": "code",
      "source": [
        "[2, 2, 4].index(2) # index of element 4 is \"0\"\n",
        "[2, 2, 4].index(2,1) # index of element 2 after pos 1 is \"1\""
      ],
      "metadata": {
        "colab": {
          "base_uri": "https://localhost:8080/"
        },
        "id": "DjtaP6eLcddH",
        "outputId": "5ae59854-1a82-4afc-c6a6-9af0a02a2be3"
      },
      "execution_count": null,
      "outputs": [
        {
          "output_type": "execute_result",
          "data": {
            "text/plain": [
              "1"
            ]
          },
          "metadata": {},
          "execution_count": 24
        }
      ]
    },
    {
      "cell_type": "markdown",
      "source": [
        "**Stack**- Python lists can be used intuitively as stack\n",
        "via the two list operations append() and\n",
        "pop()."
      ],
      "metadata": {
        "id": "8SC8WAtncwAp"
      }
    },
    {
      "cell_type": "code",
      "source": [
        "stack = [3]\n",
        "stack.append(42) # [3, 42]\n",
        "stack.pop() # 42 (stack: [3])\n",
        "stack.pop() # 3 (stack: [])"
      ],
      "metadata": {
        "colab": {
          "base_uri": "https://localhost:8080/"
        },
        "id": "dNHl5Pdedhtv",
        "outputId": "e343a775-af52-4831-f94d-2aa627f3b8f7"
      },
      "execution_count": null,
      "outputs": [
        {
          "output_type": "execute_result",
          "data": {
            "text/plain": [
              "3"
            ]
          },
          "metadata": {},
          "execution_count": 25
        }
      ]
    },
    {
      "cell_type": "markdown",
      "source": [
        "**Set**- A set is an unordered collection of\n",
        "elements. Each can exist only once."
      ],
      "metadata": {
        "id": "kLFEbNqRdpdM"
      }
    },
    {
      "cell_type": "code",
      "source": [
        "basket = {'apple', 'eggs', 'banana', 'orange'}\n",
        "same = set(['apple', 'eggs', 'banana', 'orange'])"
      ],
      "metadata": {
        "id": "PGn4ZbpAd2H0"
      },
      "execution_count": null,
      "outputs": []
    },
    {
      "cell_type": "markdown",
      "source": [
        "**Dictionary**- The dictionary is a useful data structure for\n",
        "\n",
        "storing (key, value) pairs."
      ],
      "metadata": {
        "id": "HA27vkrHeKgq"
      }
    },
    {
      "cell_type": "code",
      "source": [
        "calories = {'apple' : 52, 'banana' : 89, 'choco' : 546}\n",
        "print(calories)"
      ],
      "metadata": {
        "id": "Vtzylth0eZg5",
        "colab": {
          "base_uri": "https://localhost:8080/"
        },
        "outputId": "6468cfdb-7362-4e6f-d9c1-13074050e360"
      },
      "execution_count": null,
      "outputs": [
        {
          "output_type": "stream",
          "name": "stdout",
          "text": [
            "{'apple': 52, 'banana': 89, 'choco': 546}\n"
          ]
        }
      ]
    },
    {
      "cell_type": "markdown",
      "source": [
        "Membership\n",
        "operator \n",
        "\n",
        "Check with the ‘in’ keyword whether the\n",
        "set, list, or dictionary contains an element.\n",
        "Set containment is faster than list\n",
        "containment."
      ],
      "metadata": {
        "id": "uIT4Zlzqmjez"
      }
    },
    {
      "cell_type": "code",
      "source": [
        "basket = {'apple', 'eggs', 'banana', 'orange'}\n",
        "print('eggs' in basket) # True\n",
        "print('mushroom' in basket) # False"
      ],
      "metadata": {
        "colab": {
          "base_uri": "https://localhost:8080/"
        },
        "id": "hAcehA2Vmr6m",
        "outputId": "a26a2a2d-4887-4203-ee1a-ca7af2e59686"
      },
      "execution_count": null,
      "outputs": [
        {
          "output_type": "stream",
          "name": "stdout",
          "text": [
            "True\n",
            "False\n"
          ]
        }
      ]
    },
    {
      "cell_type": "markdown",
      "source": [
        "List and Set\n",
        "Comprehens\n",
        "ion\n",
        "\n",
        "List comprehension is the concise Python\n",
        "way to create lists. Use brackets plus an\n",
        "expression, followed by a for clause. Close\n",
        "with zero or more for or if clauses.\n",
        "Set comprehension is similar to list\n",
        "comprehension."
      ],
      "metadata": {
        "id": "qzwXPL9WnMXP"
      }
    },
    {
      "cell_type": "code",
      "source": [
        "# List comprehension\n",
        "l = [('Hi ' + x) for x in ['Alice', 'Bob', 'Pete']]\n",
        "print(l) # ['Hi Alice', 'Hi Bob', 'Hi Pete']\n",
        "l2 = [x * y for x in range(3) for y in range(3) if x>y]\n",
        "print(l2) # [0, 0, 2]\n",
        "# Set comprehension\n",
        "squares = { x**2 for x in [0,2,4] if x < 4 } # {0, 4}"
      ],
      "metadata": {
        "colab": {
          "base_uri": "https://localhost:8080/"
        },
        "id": "jTBMewRbnZmj",
        "outputId": "b390e016-a3a5-4ffc-a265-1554045c5ebe"
      },
      "execution_count": null,
      "outputs": [
        {
          "output_type": "stream",
          "name": "stdout",
          "text": [
            "['Hi Alice', 'Hi Bob', 'Hi Pete']\n",
            "[0, 0, 2]\n"
          ]
        }
      ]
    },
    {
      "cell_type": "markdown",
      "source": [
        "**map(func, iter)**- Executes the function on all elements of\n",
        "\n",
        "the iterable"
      ],
      "metadata": {
        "id": "uCXzPBgvoMzm"
      }
    },
    {
      "cell_type": "code",
      "source": [
        "list(map(lambda x: x[0], ['red',\n",
        "'green', 'blue']))"
      ],
      "metadata": {
        "colab": {
          "base_uri": "https://localhost:8080/"
        },
        "id": "BRva4IlaoUxR",
        "outputId": "264ad6c0-c882-44dc-b232-aa39b5f8a8b9"
      },
      "execution_count": null,
      "outputs": [
        {
          "output_type": "execute_result",
          "data": {
            "text/plain": [
              "['r', 'g', 'b']"
            ]
          },
          "metadata": {},
          "execution_count": 6
        }
      ]
    },
    {
      "cell_type": "markdown",
      "source": [
        "map(func, i1, ...,\n",
        "ik)\n",
        "\n",
        "Executes the function on all k elements of\n",
        "the k iterables"
      ],
      "metadata": {
        "id": "EMBj9DSKofni"
      }
    },
    {
      "cell_type": "code",
      "source": [
        "list(map(lambda x, y: str(x) + ' ' +\n",
        "y + 's' , [0, 2, 2], ['apple',\n",
        "'orange', 'banana']))"
      ],
      "metadata": {
        "colab": {
          "base_uri": "https://localhost:8080/"
        },
        "id": "F4rpJy1Voudc",
        "outputId": "3f03e984-b823-4109-f074-0bdba31d6f3c"
      },
      "execution_count": null,
      "outputs": [
        {
          "output_type": "execute_result",
          "data": {
            "text/plain": [
              "['0 apples', '2 oranges', '2 bananas']"
            ]
          },
          "metadata": {},
          "execution_count": 7
        }
      ]
    },
    {
      "cell_type": "markdown",
      "source": [
        "**string.join(iter)**- Concatenates iterable elements\n",
        "separated by string"
      ],
      "metadata": {
        "id": "LbGg-hGFpGpO"
      }
    },
    {
      "cell_type": "code",
      "source": [
        "' marries '.join(list(['Alice',\n",
        "'Bob']))"
      ],
      "metadata": {
        "colab": {
          "base_uri": "https://localhost:8080/",
          "height": 35
        },
        "id": "S__Q1FYqpMUw",
        "outputId": "82f43423-95c4-400e-804e-a8d8d1aa824c"
      },
      "execution_count": null,
      "outputs": [
        {
          "output_type": "execute_result",
          "data": {
            "text/plain": [
              "'Alice marries Bob'"
            ],
            "application/vnd.google.colaboratory.intrinsic+json": {
              "type": "string"
            }
          },
          "metadata": {},
          "execution_count": 8
        }
      ]
    },
    {
      "cell_type": "markdown",
      "source": [
        "filter(func,\n",
        "iterable)\n",
        "\n",
        "Filters out elements in iterable for which\n",
        "function returns False (or 0)"
      ],
      "metadata": {
        "id": "UFOMp8kHpeN4"
      }
    },
    {
      "cell_type": "code",
      "source": [
        "list(filter(lambda x: True if x>17\n",
        "else False, [1, 15, 17, 18]))"
      ],
      "metadata": {
        "colab": {
          "base_uri": "https://localhost:8080/"
        },
        "id": "LyjBzCCVpgFd",
        "outputId": "78b7a515-86b0-480d-87d2-60097ee355c0"
      },
      "execution_count": null,
      "outputs": [
        {
          "output_type": "execute_result",
          "data": {
            "text/plain": [
              "[18]"
            ]
          },
          "metadata": {},
          "execution_count": 9
        }
      ]
    },
    {
      "cell_type": "markdown",
      "source": [
        "**string.strip()**- Removes leading and trailing\n",
        "whitespaces of string"
      ],
      "metadata": {
        "id": "plALkWgUpv2V"
      }
    },
    {
      "cell_type": "code",
      "source": [
        "print(\" \\n \\t 42 \\t \".strip())"
      ],
      "metadata": {
        "colab": {
          "base_uri": "https://localhost:8080/"
        },
        "id": "Uv9SQVWlp0_U",
        "outputId": "0ba34a9b-a57b-4de8-cfdd-726c791a0061"
      },
      "execution_count": null,
      "outputs": [
        {
          "output_type": "stream",
          "name": "stdout",
          "text": [
            "42\n"
          ]
        }
      ]
    },
    {
      "cell_type": "markdown",
      "source": [
        "**sorted(iter)**- Sorts iterable in ascending order"
      ],
      "metadata": {
        "id": "8C13uQ3rrKDY"
      }
    },
    {
      "cell_type": "code",
      "source": [
        "sorted([8, 3, 2, 42, 5])"
      ],
      "metadata": {
        "colab": {
          "base_uri": "https://localhost:8080/"
        },
        "id": "MKj20H1AtVAO",
        "outputId": "031d68b1-985a-421f-b7ad-83acf4b64979"
      },
      "execution_count": null,
      "outputs": [
        {
          "output_type": "execute_result",
          "data": {
            "text/plain": [
              "[2, 3, 5, 8, 42]"
            ]
          },
          "metadata": {},
          "execution_count": 11
        }
      ]
    },
    {
      "cell_type": "markdown",
      "source": [
        "sorted(iter,\n",
        "key=key)\n",
        "\n",
        "Sorts according to the key function in\n",
        "ascending order"
      ],
      "metadata": {
        "id": "nm6EqWP5tsKn"
      }
    },
    {
      "cell_type": "code",
      "source": [
        "sorted([8, 3, 2, 42, 5], key=lambda\n",
        "x: 0 if x==42 else x)"
      ],
      "metadata": {
        "colab": {
          "base_uri": "https://localhost:8080/"
        },
        "id": "pLJA2NX4tuUT",
        "outputId": "d431c37d-1bcb-47fe-849c-15dbff7173ad"
      },
      "execution_count": null,
      "outputs": [
        {
          "output_type": "execute_result",
          "data": {
            "text/plain": [
              "[42, 2, 3, 5, 8]"
            ]
          },
          "metadata": {},
          "execution_count": 12
        }
      ]
    },
    {
      "cell_type": "markdown",
      "source": [
        "**help(func)**- Returns documentation of func "
      ],
      "metadata": {
        "id": "BPwQqkPnuC7-"
      }
    },
    {
      "cell_type": "code",
      "source": [
        "help(str.upper(\"SARU\"))"
      ],
      "metadata": {
        "colab": {
          "base_uri": "https://localhost:8080/"
        },
        "id": "q1kAo25wuNtX",
        "outputId": "5d93f10d-4c2f-46ac-9e44-d4e1f80f812a"
      },
      "execution_count": null,
      "outputs": [
        {
          "output_type": "stream",
          "name": "stdout",
          "text": [
            "No Python documentation found for 'SARU'.\n",
            "Use help() to get the interactive help utility.\n",
            "Use help(str) for help on the str class.\n",
            "\n"
          ]
        }
      ]
    },
    {
      "cell_type": "markdown",
      "source": [
        "**zip(i1, i2, ...)**- Groups the i-th elements of iterators i1, i2,\n",
        "\n",
        "... together"
      ],
      "metadata": {
        "id": "5Qmi7Fwou1IA"
      }
    },
    {
      "cell_type": "code",
      "source": [
        "list(zip(['Alice', 'Anna'], ['Bob',\n",
        "'Jon', 'Frank']))"
      ],
      "metadata": {
        "colab": {
          "base_uri": "https://localhost:8080/"
        },
        "id": "ZryJ5hgFvAeJ",
        "outputId": "88e78ce8-4f85-4658-eeaa-faa2c406f818"
      },
      "execution_count": null,
      "outputs": [
        {
          "output_type": "execute_result",
          "data": {
            "text/plain": [
              "[('Alice', 'Bob'), ('Anna', 'Jon')]"
            ]
          },
          "metadata": {},
          "execution_count": 19
        }
      ]
    },
    {
      "cell_type": "markdown",
      "source": [
        "**Unzip**- Equal to: 1) unpack the zipped list, 2) zip\n",
        "\n",
        "the result"
      ],
      "metadata": {
        "id": "z4oIPTqwvalv"
      }
    },
    {
      "cell_type": "code",
      "source": [
        "list(zip(*[('Alice', 'Bob'),\n",
        "('Anna', 'Jon')]))"
      ],
      "metadata": {
        "colab": {
          "base_uri": "https://localhost:8080/"
        },
        "id": "UQkzthffwnYs",
        "outputId": "baa1f6bc-8986-4058-8b0e-97f4b8cc7e58"
      },
      "execution_count": null,
      "outputs": [
        {
          "output_type": "execute_result",
          "data": {
            "text/plain": [
              "[('Alice', 'Anna'), ('Bob', 'Jon')]"
            ]
          },
          "metadata": {},
          "execution_count": 22
        }
      ]
    },
    {
      "cell_type": "markdown",
      "source": [
        "**enumerate(iter)**- Assigns a counter value to each element\n",
        "\n",
        "of the iterable"
      ],
      "metadata": {
        "id": "36MEpgj5w8f1"
      }
    },
    {
      "cell_type": "code",
      "source": [
        "list(enumerate(['Alice', 'Bob',\n",
        "'Jon']))"
      ],
      "metadata": {
        "colab": {
          "base_uri": "https://localhost:8080/"
        },
        "id": "bYDzbywuxFpu",
        "outputId": "9e99bb87-44fa-45a3-8592-3107337a125a"
      },
      "execution_count": null,
      "outputs": [
        {
          "output_type": "execute_result",
          "data": {
            "text/plain": [
              "[(0, 'Alice'), (1, 'Bob'), (2, 'Jon')]"
            ]
          },
          "metadata": {},
          "execution_count": 1
        }
      ]
    },
    {
      "cell_type": "markdown",
      "source": [
        "**Swappings number**- Swapping variables is a breeze in Python.\n",
        "\n",
        "No offense, Java!"
      ],
      "metadata": {
        "id": "kJrhePszYNb9"
      }
    },
    {
      "cell_type": "code",
      "source": [
        "a, b = 'Jane', 'Alice'\n",
        "a, b = b, a\n",
        "print(a,b)"
      ],
      "metadata": {
        "colab": {
          "base_uri": "https://localhost:8080/"
        },
        "id": "VizchvwNY3nW",
        "outputId": "76c08a19-f4a1-4c12-ed02-9f99dea47968"
      },
      "execution_count": null,
      "outputs": [
        {
          "output_type": "stream",
          "name": "stdout",
          "text": [
            "Alice Jane\n"
          ]
        }
      ]
    },
    {
      "cell_type": "markdown",
      "source": [
        "**Unpacking arguments**- Use a sequence as function arguments\n",
        "via asterisk operator *. Use a dictionary\n",
        "(key, value) via double asterisk operator **"
      ],
      "metadata": {
        "id": "wR-0oDqNZEv1"
      }
    },
    {
      "cell_type": "code",
      "source": [
        "def f(x, y, z): return x + y * z\n",
        "f(*[1, 3, 4])\n",
        "f(**{'z' : 4, 'x' : 1, 'y' : 3})"
      ],
      "metadata": {
        "colab": {
          "base_uri": "https://localhost:8080/"
        },
        "id": "1eCHpJX2ZKI-",
        "outputId": "5a31c60b-c9ab-4107-a5b4-797ec9dd87c0"
      },
      "execution_count": null,
      "outputs": [
        {
          "output_type": "execute_result",
          "data": {
            "text/plain": [
              "13"
            ]
          },
          "metadata": {},
          "execution_count": 4
        }
      ]
    },
    {
      "cell_type": "markdown",
      "source": [
        "**Extended Unpacking**- Use unpacking for multiple assignment\n",
        "\n",
        "feature in Python"
      ],
      "metadata": {
        "id": "kk9XC09jZcbO"
      }
    },
    {
      "cell_type": "code",
      "source": [
        "a, *b = [1, 2, 3, 4, 5]\n",
        "print(a)\n",
        "print(b)"
      ],
      "metadata": {
        "colab": {
          "base_uri": "https://localhost:8080/"
        },
        "id": "-7yUf2B5Zhi9",
        "outputId": "386dd0ef-1c72-47d1-ea32-0dc0f7604089"
      },
      "execution_count": null,
      "outputs": [
        {
          "output_type": "stream",
          "name": "stdout",
          "text": [
            "1\n",
            "[2, 3, 4, 5]\n"
          ]
        }
      ]
    },
    {
      "cell_type": "markdown",
      "source": [
        "**Merge two dictionaries**- Use unpacking to merge two dictionaries\n",
        "\n",
        "into a single one"
      ],
      "metadata": {
        "id": "yVm99ANyZrXF"
      }
    },
    {
      "cell_type": "code",
      "source": [
        "x={'Alice' : 18}\n",
        "y={'Bob' : 27, 'Ann' : 22}\n",
        "z = {**x,**y}\n",
        "print(z)"
      ],
      "metadata": {
        "colab": {
          "base_uri": "https://localhost:8080/"
        },
        "id": "ZOFNfIBeZvQu",
        "outputId": "a47dee4e-ded9-4acd-eb86-ceaea970b0d1"
      },
      "execution_count": null,
      "outputs": [
        {
          "output_type": "stream",
          "name": "stdout",
          "text": [
            "{'Alice': 18, 'Bob': 27, 'Ann': 22}\n"
          ]
        }
      ]
    },
    {
      "cell_type": "markdown",
      "source": [
        "**lst.append(x)**- Appends element x to the list lst."
      ],
      "metadata": {
        "id": "Ajl1bpo2aWn-"
      }
    },
    {
      "cell_type": "code",
      "source": [
        "l = []\n",
        "l.append(42)\n",
        "l.append(21)\n",
        "[42, 21]"
      ],
      "metadata": {
        "colab": {
          "base_uri": "https://localhost:8080/"
        },
        "id": "JmeO-q5cakb1",
        "outputId": "e22498ca-85fb-4ae1-ebf5-25181fc8530a"
      },
      "execution_count": null,
      "outputs": [
        {
          "output_type": "execute_result",
          "data": {
            "text/plain": [
              "[42, 21]"
            ]
          },
          "metadata": {},
          "execution_count": 11
        }
      ]
    },
    {
      "cell_type": "markdown",
      "source": [
        "**lst.clear()**- Removes all elements from the list\n",
        "lst–which becomes empty."
      ],
      "metadata": {
        "id": "27BhptjNawhl"
      }
    },
    {
      "cell_type": "code",
      "source": [
        "lst = [1, 2, 3, 4, 5]\n",
        "lst.clear()\n",
        "print(lst)"
      ],
      "metadata": {
        "colab": {
          "base_uri": "https://localhost:8080/"
        },
        "id": "FG-CHgjaa3BX",
        "outputId": "4aaff99e-0781-45d0-b200-d28030076591"
      },
      "execution_count": null,
      "outputs": [
        {
          "output_type": "stream",
          "name": "stdout",
          "text": [
            "[]\n"
          ]
        }
      ]
    },
    {
      "cell_type": "markdown",
      "source": [
        "**lst.copy()**- Returns a copy of the list lst. Copies only\n",
        "the list, not the elements in the list (shallow\n",
        "copy)."
      ],
      "metadata": {
        "id": "Ivf_4-aDbBXJ"
      }
    },
    {
      "cell_type": "code",
      "source": [
        "lst = [1, 2, 3]\n",
        "lst.copy()"
      ],
      "metadata": {
        "colab": {
          "base_uri": "https://localhost:8080/"
        },
        "id": "6jwRc-eTbPHu",
        "outputId": "4afa9441-caba-4a35-fd91-bfe48050dabb"
      },
      "execution_count": null,
      "outputs": [
        {
          "output_type": "execute_result",
          "data": {
            "text/plain": [
              "[1, 2, 3]"
            ]
          },
          "metadata": {},
          "execution_count": 13
        }
      ]
    },
    {
      "cell_type": "markdown",
      "source": [
        "**lst.count(x)**- Counts the number of occurrences of\n",
        "\n",
        "element x in the list lst."
      ],
      "metadata": {
        "id": "PeOkCyOpbdF3"
      }
    },
    {
      "cell_type": "code",
      "source": [
        "lst = [1, 2, 42, 2, 1, 42, 42]\n",
        "lst.count(42)"
      ],
      "metadata": {
        "colab": {
          "base_uri": "https://localhost:8080/"
        },
        "id": "VERmaPS7biFs",
        "outputId": "1f67845c-fb58-4fb1-b411-a8b21b449e83"
      },
      "execution_count": null,
      "outputs": [
        {
          "output_type": "execute_result",
          "data": {
            "text/plain": [
              "3"
            ]
          },
          "metadata": {},
          "execution_count": 16
        }
      ]
    },
    {
      "cell_type": "code",
      "source": [
        "lst.count(1)"
      ],
      "metadata": {
        "colab": {
          "base_uri": "https://localhost:8080/"
        },
        "id": "Tn7iaTGzcEHX",
        "outputId": "030d7985-805d-4d00-c3dd-a8795075ba5e"
      },
      "execution_count": null,
      "outputs": [
        {
          "output_type": "execute_result",
          "data": {
            "text/plain": [
              "2"
            ]
          },
          "metadata": {},
          "execution_count": 17
        }
      ]
    },
    {
      "cell_type": "markdown",
      "source": [
        "**lst.extend(iter)**- Adds all elements of an iterable iter (e.g.\n",
        "\n",
        "another list) to the list lst."
      ],
      "metadata": {
        "id": "0zwGVkFhcLRV"
      }
    },
    {
      "cell_type": "code",
      "source": [
        "lst = [1, 2, 3]\n",
        "lst.extend([4, 5, 6])\n",
        "print(lst)"
      ],
      "metadata": {
        "colab": {
          "base_uri": "https://localhost:8080/"
        },
        "id": "b5EiP1bZcT9u",
        "outputId": "aa86ffd9-ae28-442f-e74c-6f1b379f7011"
      },
      "execution_count": null,
      "outputs": [
        {
          "output_type": "stream",
          "name": "stdout",
          "text": [
            "[1, 2, 3, 4, 5, 6]\n"
          ]
        }
      ]
    },
    {
      "cell_type": "markdown",
      "source": [
        "**lst.index(x)**- Returns the position (index) of the first\n",
        "occurrence of value x in the list lst."
      ],
      "metadata": {
        "id": "sNzMie44fFL9"
      }
    },
    {
      "cell_type": "code",
      "source": [
        "lst = [\"Alice\", 42, \"Bob\", 99]\n",
        "lst.index(\"Alice\")"
      ],
      "metadata": {
        "colab": {
          "base_uri": "https://localhost:8080/"
        },
        "id": "ULSGyPmNfQXE",
        "outputId": "429b8fb7-cbca-47ec-a466-0fbbf5aab4fe"
      },
      "execution_count": null,
      "outputs": [
        {
          "output_type": "execute_result",
          "data": {
            "text/plain": [
              "0"
            ]
          },
          "metadata": {},
          "execution_count": 37
        }
      ]
    },
    {
      "cell_type": "markdown",
      "source": [
        "**lst.insert(i, x)**- Inserts element x at position (index) i in\n",
        "\n",
        "the list lst."
      ],
      "metadata": {
        "id": "H0539tL6fhFF"
      }
    },
    {
      "cell_type": "code",
      "source": [
        "lst = [1, 2, 3, 4]\n",
        "lst.insert(3, 99)\n",
        "print(lst)"
      ],
      "metadata": {
        "colab": {
          "base_uri": "https://localhost:8080/"
        },
        "id": "pafBlaoYfkws",
        "outputId": "b6f4953e-97f3-4091-ce42-2438d6dd4650"
      },
      "execution_count": null,
      "outputs": [
        {
          "output_type": "stream",
          "name": "stdout",
          "text": [
            "[1, 2, 3, 99, 4]\n"
          ]
        }
      ]
    },
    {
      "cell_type": "markdown",
      "source": [
        "**lst.pop()**- Removes and returns the final element of\n",
        "\n",
        "the list lst."
      ],
      "metadata": {
        "id": "jT-GDf4Sf2uk"
      }
    },
    {
      "cell_type": "code",
      "source": [
        "lst = [1, 2, 3]\n",
        "lst.pop()"
      ],
      "metadata": {
        "colab": {
          "base_uri": "https://localhost:8080/"
        },
        "id": "O1zo8VEvf-Mt",
        "outputId": "fba39a64-98ef-4440-e38c-3ea7a9da2e4d"
      },
      "execution_count": null,
      "outputs": [
        {
          "output_type": "execute_result",
          "data": {
            "text/plain": [
              "3"
            ]
          },
          "metadata": {},
          "execution_count": 40
        }
      ]
    },
    {
      "cell_type": "markdown",
      "source": [
        "**lst.remove(x)**-Removes and returns the first occurrence\n",
        "\n",
        "of element x in the list lst."
      ],
      "metadata": {
        "id": "QPldpPf9gEOO"
      }
    },
    {
      "cell_type": "code",
      "source": [
        "lst = [1, 2, 99, 4, 99]\n",
        "lst.remove(99)\n",
        "lst"
      ],
      "metadata": {
        "colab": {
          "base_uri": "https://localhost:8080/"
        },
        "id": "ezZ9ngdJgVPx",
        "outputId": "c99cdff3-aa12-4b86-ca3f-3bebe9afc2c2"
      },
      "execution_count": null,
      "outputs": [
        {
          "output_type": "execute_result",
          "data": {
            "text/plain": [
              "[1, 2, 4, 99]"
            ]
          },
          "metadata": {},
          "execution_count": 41
        }
      ]
    },
    {
      "cell_type": "markdown",
      "source": [
        "**lst.reverse()**- Reverses the order of elements in the list\n",
        "\n",
        "lst.\n"
      ],
      "metadata": {
        "id": "flc_AFMCgnBl"
      }
    },
    {
      "cell_type": "code",
      "source": [
        "lst = [1, 2, 3, 4]\n",
        "lst.reverse()\n",
        "lst"
      ],
      "metadata": {
        "colab": {
          "base_uri": "https://localhost:8080/"
        },
        "id": "x_nN3IPbgv2n",
        "outputId": "f8eb6abf-2cac-418c-8109-bd0b78ff6f95"
      },
      "execution_count": null,
      "outputs": [
        {
          "output_type": "execute_result",
          "data": {
            "text/plain": [
              "[4, 3, 2, 1]"
            ]
          },
          "metadata": {},
          "execution_count": 42
        }
      ]
    },
    {
      "cell_type": "markdown",
      "source": [
        "**lst.sort()**- Sorts the elements in the list lst in\n",
        "\n",
        "ascending order."
      ],
      "metadata": {
        "id": "IMMrJxVcg2xN"
      }
    },
    {
      "cell_type": "code",
      "source": [
        "lst = [88, 12, 42, 11, 2]\n",
        "lst.sort()\n",
        "lst"
      ],
      "metadata": {
        "colab": {
          "base_uri": "https://localhost:8080/"
        },
        "id": "0k2pHlszg8HP",
        "outputId": "1ad97a16-86fc-4486-b042-83e8d916d458"
      },
      "execution_count": null,
      "outputs": [
        {
          "output_type": "execute_result",
          "data": {
            "text/plain": [
              "[2, 11, 12, 42, 88]"
            ]
          },
          "metadata": {},
          "execution_count": 44
        }
      ]
    }
  ],
  "metadata": {
    "colab": {
      "name": "Copy of Untitled1.ipynb",
      "provenance": []
    },
    "kernelspec": {
      "display_name": "Python 3",
      "name": "python3"
    },
    "language_info": {
      "name": "python"
    }
  },
  "nbformat": 4,
  "nbformat_minor": 0
}